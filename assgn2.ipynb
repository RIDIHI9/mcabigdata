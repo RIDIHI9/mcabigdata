{
  "nbformat": 4,
  "nbformat_minor": 0,
  "metadata": {
    "colab": {
      "provenance": [],
      "authorship_tag": "ABX9TyNbnnLmpcBBqkwL/x6ZmzTl",
      "include_colab_link": true
    },
    "kernelspec": {
      "name": "python3",
      "display_name": "Python 3"
    },
    "language_info": {
      "name": "python"
    }
  },
  "cells": [
    {
      "cell_type": "markdown",
      "metadata": {
        "id": "view-in-github",
        "colab_type": "text"
      },
      "source": [
        "<a href=\"https://colab.research.google.com/github/RIDIHI9/mcabigdata/blob/main/assgn2.ipynb\" target=\"_parent\"><img src=\"https://colab.research.google.com/assets/colab-badge.svg\" alt=\"Open In Colab\"/></a>"
      ]
    },
    {
      "cell_type": "code",
      "execution_count": 1,
      "metadata": {
        "colab": {
          "base_uri": "https://localhost:8080/"
        },
        "id": "yB0_bXXL_q9R",
        "outputId": "65367ad6-1f2b-4767-c08d-1a48555d36f0"
      },
      "outputs": [
        {
          "output_type": "stream",
          "name": "stdout",
          "text": [
            "final array [5 4 6 3 2 1]\n"
          ]
        }
      ],
      "source": [
        "import numpy as np\n",
        "\n",
        "# initialising numpy array\n",
        "ini_array = np.array([1, 2, 3, 6, 4, 5])\n",
        "\n",
        "# using shortcut method to reverse\n",
        "res = np.flip(ini_array)\n",
        "\n",
        "# printing result\n",
        "print(\"final array\", str(res))\n"
      ]
    },
    {
      "cell_type": "code",
      "source": [
        "import numpy as np\n",
        "\n",
        "an_array = np.array([[1, 2], [3, 4]])\n",
        "another_array = np.array([[1, 2], [3, 4]])\n",
        "\n",
        "comparison = an_array == another_array\n",
        "equal_arrays = comparison.all()\n",
        "\n",
        "print(equal_arrays)"
      ],
      "metadata": {
        "colab": {
          "base_uri": "https://localhost:8080/"
        },
        "id": "c7y6neJgADGl",
        "outputId": "ae96b74a-96b8-4086-dc10-1b960d8cdf4d"
      },
      "execution_count": 2,
      "outputs": [
        {
          "output_type": "stream",
          "name": "stdout",
          "text": [
            "True\n"
          ]
        }
      ]
    },
    {
      "cell_type": "code",
      "source": [
        "import numpy as np\n",
        "\n",
        "arr = np.array([1,2,2,3,4,3,5,5,5])\n",
        "print(\"Original array:\")\n",
        "print(arr)\n",
        "\n",
        "print(\"Most frequent value in the above array:\")\n",
        "print(np.bincount(arr).argmax())"
      ],
      "metadata": {
        "colab": {
          "base_uri": "https://localhost:8080/"
        },
        "id": "PP-cB2KVAL3R",
        "outputId": "cdcbd2ac-2ed6-45f1-ea3f-10ecff378ce4"
      },
      "execution_count": 3,
      "outputs": [
        {
          "output_type": "stream",
          "name": "stdout",
          "text": [
            "Original array:\n",
            "[1 2 2 3 4 3 5 5 5]\n",
            "Most frequent value in the above array:\n",
            "5\n"
          ]
        }
      ]
    },
    {
      "cell_type": "code",
      "source": [
        "import numpy as np\n",
        "\n",
        "\n",
        "arr = np.matrix('[4, 1, 9; 12, 3, 1; 4, 5, 6]')\n",
        "\n",
        "\n",
        "total_sum = np.sum(arr)\n",
        "\n",
        "\n",
        "row_sum = np.sum(arr, axis=1)\n",
        "\n",
        "col_sum = np.sum(arr, axis=0)\n",
        "\n",
        "print(\"Matrix:\")\n",
        "print(arr)\n",
        "\n",
        "print(\"\\ni. Sum of all elements:\", total_sum)\n",
        "\n",
        "print(\"\\nii. Sum of all elements row-wise:\")\n",
        "print(row_sum)\n",
        "\n",
        "print(\"\\niii. Sum of all elements column-wise:\")\n",
        "print(col_sum)"
      ],
      "metadata": {
        "colab": {
          "base_uri": "https://localhost:8080/"
        },
        "id": "dvgr376YAUCV",
        "outputId": "9875c4d9-4543-429b-8fa3-a10bf45d8b27"
      },
      "execution_count": 4,
      "outputs": [
        {
          "output_type": "stream",
          "name": "stdout",
          "text": [
            "Matrix:\n",
            "[[ 4  1  9]\n",
            " [12  3  1]\n",
            " [ 4  5  6]]\n",
            "\n",
            "i. Sum of all elements: 45\n",
            "\n",
            "ii. Sum of all elements row-wise:\n",
            "[[14]\n",
            " [16]\n",
            " [15]]\n",
            "\n",
            "iii. Sum of all elements column-wise:\n",
            "[[20  9 16]]\n"
          ]
        }
      ]
    }
  ]
}